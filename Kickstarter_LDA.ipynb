{
 "cells": [
  {
   "cell_type": "code",
   "execution_count": 1,
   "metadata": {},
   "outputs": [],
   "source": [
    "from IPython.core.interactiveshell import InteractiveShell\n",
    "InteractiveShell.ast_node_interactivity = \"all\""
   ]
  },
  {
   "cell_type": "code",
   "execution_count": 2,
   "metadata": {},
   "outputs": [],
   "source": [
    "### applying LDA on \"description\"\n",
    "import pandas as pd\n",
    "\n",
    "df=pd.read_csv(\"C:/Users/USER/Desktop/660 project/data/data.csv\",header=0)\n",
    "\n",
    "All_text=df['descripton']\n",
    "label=df['state']"
   ]
  },
  {
   "cell_type": "markdown",
   "metadata": {},
   "source": [
    "## Find the best number of topics(K)"
   ]
  },
  {
   "cell_type": "code",
   "execution_count": 3,
   "metadata": {},
   "outputs": [],
   "source": [
    "# Preprocessing - Create Term Frequency Matrix\n",
    "from sklearn.feature_extraction.text import CountVectorizer\n",
    "from sklearn.model_selection import train_test_split\n",
    "from sklearn.feature_extraction import text \n",
    "\n",
    "# initial LDA model, and add more words in stopwords \n",
    "tf_vectorizer = CountVectorizer(max_df=0.90, \\\n",
    "                min_df=50, stop_words=text.ENGLISH_STOP_WORDS.union([\"00\", \"10\",\"ve\",\"ll\",\"la\",\"et\",\"000\"]))\n",
    "\n",
    "tf = tf_vectorizer.fit_transform(All_text)\n",
    "\n",
    "tf_feature_names = tf_vectorizer.get_feature_names()\n",
    "\n",
    "# split dataset into train (80%) and test sets (20%)\n",
    "# the test sets will be used to evaluate proplexity of topic modeling\n",
    "X_train, X_test = train_test_split(\\\n",
    "                tf, test_size=0.2, random_state=0)"
   ]
  },
  {
   "cell_type": "code",
   "execution_count": 13,
   "metadata": {},
   "outputs": [
    {
     "name": "stdout",
     "output_type": "stream",
     "text": [
      "2 3990.635957387688\n",
      "3 3749.4202261642545\n",
      "4 3686.752443607714\n",
      "5 3625.27500455111\n",
      "6 3595.1489314882488\n",
      "7 3534.1486442287387\n",
      "8 3477.3341299146614\n",
      "9 3466.38408920332\n",
      "10 3459.619286545363\n",
      "11 3473.4596718616112\n",
      "12 3424.7615210791832\n",
      "13 3458.280400819479\n",
      "14 3446.342148357967\n"
     ]
    }
   ],
   "source": [
    "# find the best number of topics(K) which has min perplexity\n",
    "# result shows that 12 groups has min perplexity\n",
    "from sklearn.decomposition import LatentDirichletAllocation\n",
    "import numpy as np\n",
    "import matplotlib.pyplot as plt\n",
    "\n",
    "result=[]\n",
    "for num_topics in range(2,15):\n",
    "    lda = LatentDirichletAllocation(n_components=num_topics, \\\n",
    "                                learning_method='online', \\\n",
    "                                max_iter=10,verbose=0, n_jobs=1,\n",
    "                                random_state=0).fit(X_train)\n",
    "    p=lda.perplexity(X_test)\n",
    "    result.append([num_topics,p])\n",
    "    print(num_topics, p)"
   ]
  },
  {
   "cell_type": "code",
   "execution_count": 40,
   "metadata": {},
   "outputs": [
    {
     "data": {
      "image/png": "[encoded data removed]",
      "text/plain": [
       "<Figure size 432x288 with 1 Axes>"
      ]
     },
     "metadata": {
      "needs_background": "light"
     },
     "output_type": "display_data"
    }
   ],
   "source": [
    "## find K through graph\n",
    "## Kickstarter categorize topics into 8 group\n",
    "import pandas as pd\n",
    "pd.DataFrame(result, columns=[\"Topic_numbers\", \"Perlexity\"]).plot.line(x='Topic_numbers',y=\"Perlexity\");\n",
    "plt.savefig(\"Topic_numbers.png\")\n",
    "plt.show();"
   ]
  },
  {
   "cell_type": "markdown",
   "metadata": {},
   "source": [
    "## Use gensim package to visualize topic"
   ]
  },
  {
   "cell_type": "code",
   "execution_count": 10,
   "metadata": {},
   "outputs": [
    {
     "name": "stderr",
     "output_type": "stream",
     "text": [
      "C:\\Users\\USER\\Anaconda3\\lib\\site-packages\\gensim\\utils.py:1197: UserWarning: detected Windows; aliasing chunkize to chunkize_serial\n",
      "  warnings.warn(\"detected Windows; aliasing chunkize to chunkize_serial\")\n"
     ]
    }
   ],
   "source": [
    "# 5.1. Create LDA model using the same TF matrix generated from sklearn\n",
    "\n",
    "import gensim\n",
    "from gensim import corpora\n",
    "\n",
    "# convert the gensim corpus from the sparse tf matrix\n",
    "corpus = gensim.matutils.Sparse2Corpus(X_train, \\\n",
    "                            documents_columns=False) \n",
    "\n",
    "# create the mapping between id and words\n",
    "id2word={idx:w for idx, w in \\\n",
    "         enumerate(tf_vectorizer.get_feature_names())}\n",
    "\n",
    "# create a gensim dictionary from the corpus\n",
    "# a dictionary contains the frequency of each words \n",
    "# the mapping between ids and words\n",
    "dictionary = corpora.Dictionary.from_corpus(corpus, \\\n",
    "                            id2word=id2word)\n"
   ]
  },
  {
   "cell_type": "code",
   "execution_count": 12,
   "metadata": {},
   "outputs": [],
   "source": [
    "# Train LDA model\n",
    "\n",
    "NUM_TOPICS =12 \n",
    "\n",
    "ldamodel = gensim.models.\\\n",
    "ldamodel.LdaModel(corpus, alpha='asymmetric',\\\n",
    "                            num_topics = NUM_TOPICS, \\\n",
    "                            id2word=id2word, \\\n",
    "                            iterations=10)"
   ]
  },
  {
   "cell_type": "markdown",
   "metadata": {},
   "source": [
    "## Create interactive topic model visualization "
   ]
  },
  {
   "cell_type": "code",
   "execution_count": 13,
   "metadata": {},
   "outputs": [
    {
     "name": "stderr",
     "output_type": "stream",
     "text": [
      "C:\\Users\\USER\\Anaconda3\\lib\\site-packages\\pyLDAvis\\_prepare.py:257: FutureWarning: Sorting because non-concatenation axis is not aligned. A future version\n",
      "of pandas will change to not sort by default.\n",
      "\n",
      "To accept the future behavior, pass 'sort=True'.\n",
      "\n",
      "To retain the current behavior and silence the warning, pass sort=False\n",
      "\n",
      "  return pd.concat([default_term_info] + list(topic_dfs))\n"
     ]
    }
   ],
   "source": [
    "import pyLDAvis.gensim\n",
    "lda_display = pyLDAvis.gensim.prepare(ldamodel, corpus, dictionary, sort_topics=False)\n",
    "pyLDAvis.save_html(lda_display, 'lda_display0.html')"
   ]
  },
  {
   "cell_type": "markdown",
   "metadata": {},
   "source": [
    "## Create word cloud"
   ]
  },
  {
   "cell_type": "code",
   "execution_count": 14,
   "metadata": {},
   "outputs": [
    {
     "name": "stderr",
     "output_type": "stream",
     "text": [
      "C:\\Users\\USER\\Anaconda3\\lib\\site-packages\\sklearn\\decomposition\\online_lda.py:536: DeprecationWarning: The default value for 'learning_method' will be changed from 'online' to 'batch' in the release 0.20. This warning was introduced in 0.18.\n",
      "  DeprecationWarning)\n"
     ]
    },
    {
     "name": "stdout",
     "output_type": "stream",
     "text": [
      "iteration: 1 of max_iter: 10, perplexity: 3278.5582\n",
      "iteration: 2 of max_iter: 10, perplexity: 3245.8822\n",
      "iteration: 3 of max_iter: 10, perplexity: 3234.1657\n",
      "iteration: 4 of max_iter: 10, perplexity: 3227.9989\n",
      "iteration: 5 of max_iter: 10, perplexity: 3224.2683\n",
      "iteration: 6 of max_iter: 10, perplexity: 3221.6517\n",
      "iteration: 7 of max_iter: 10, perplexity: 3219.5617\n",
      "iteration: 8 of max_iter: 10, perplexity: 3217.7818\n",
      "iteration: 9 of max_iter: 10, perplexity: 3216.2504\n",
      "iteration: 10 of max_iter: 10, perplexity: 3214.9285\n"
     ]
    }
   ],
   "source": [
    "# Train LDA model\n",
    "from sklearn.decomposition import LatentDirichletAllocation\n",
    "\n",
    "num_topics = 12\n",
    "\n",
    "lda = LatentDirichletAllocation(n_components=num_topics, \\\n",
    "                                max_iter=10,verbose=1,\n",
    "                                evaluate_every=1, n_jobs=1,\n",
    "                                random_state=0).fit(X_train)"
   ]
  },
  {
   "cell_type": "code",
   "execution_count": 15,
   "metadata": {},
   "outputs": [
    {
     "data": {
      "text/plain": [
       "<Figure size 1500x1500 with 12 Axes>"
      ]
     },
     "metadata": {},
     "output_type": "display_data"
    }
   ],
   "source": [
    "import matplotlib.pyplot as plt\n",
    "from wordcloud import WordCloud\n",
    "import math\n",
    "\n",
    "num_top_words=50\n",
    "f, axarr = plt.subplots(4, 3, figsize=(15, 15));\n",
    "\n",
    "for topic_idx, topic in enumerate(lda.components_):\n",
    "    # create a dataframe with two columns (word, weight) for each topic\n",
    "    \n",
    "    # create a word:count dictionary\n",
    "    f={tf_feature_names[i]:topic[i] for i in topic.argsort()[::-1][0:num_top_words]}\n",
    "    \n",
    "    # generate wordcloud in subplots\n",
    "    wordcloud = WordCloud(width=480, height=450, margin=0, background_color=\"black\");\n",
    "    _ = wordcloud.generate_from_frequencies(frequencies=f);\n",
    "    \n",
    "    _ = axarr[math.floor(topic_idx/3), topic_idx%3].imshow(wordcloud, interpolation=\"bilinear\");\n",
    "    _ = axarr[math.floor(topic_idx/3), topic_idx%3].set_title(\"Topic: \"+str(topic_idx));\n",
    "    _ = axarr[math.floor(topic_idx/3), topic_idx%3].axis('off')\n",
    "\n",
    "plt.tight_layout()\n",
    "plt.savefig(\"wordcloud.png\")\n",
    "plt.show()"
   ]
  },
  {
   "cell_type": "markdown",
   "metadata": {},
   "source": [
    "## Build topic distribution for each Kickstarter project.\n",
    "## The result is used for predicting model."
   ]
  },
  {
   "cell_type": "code",
   "execution_count": 4,
   "metadata": {},
   "outputs": [
    {
     "name": "stderr",
     "output_type": "stream",
     "text": [
      "C:\\Users\\USER\\Anaconda3\\lib\\site-packages\\gensim\\utils.py:1197: UserWarning: detected Windows; aliasing chunkize to chunkize_serial\n",
      "  warnings.warn(\"detected Windows; aliasing chunkize to chunkize_serial\")\n"
     ]
    }
   ],
   "source": [
    "# take the tf from above for gensim pckage\n",
    "import gensim\n",
    "from gensim import corpora\n",
    "\n",
    "corpus = gensim.matutils.Sparse2Corpus(tf, documents_columns=False) \n",
    "\n",
    "# create the mapping between id and words\n",
    "id2word={idx:w for idx, w in \\\n",
    "         enumerate(tf_vectorizer.get_feature_names())}\n",
    "\n",
    "# create a gensim dictionary from the corpus\n",
    "# a dictionary contains the frequency of each words \n",
    "# the mapping between ids and words\n",
    "dictionary = corpora.Dictionary.from_corpus(corpus, \\\n",
    "                            id2word=id2word)\n",
    "\n"
   ]
  },
  {
   "cell_type": "code",
   "execution_count": 5,
   "metadata": {},
   "outputs": [],
   "source": [
    "# 6.2. Train LDA model\n",
    "\n",
    "NUM_TOPICS = 12\n",
    "\n",
    "ldamodel_fordoc = gensim.models.ldamodel.LdaModel(corpus, alpha='asymmetric',\\\n",
    "                            num_topics = NUM_TOPICS, \\\n",
    "                            id2word=id2word, \\\n",
    "                            iterations=15)"
   ]
  },
  {
   "cell_type": "code",
   "execution_count": 7,
   "metadata": {},
   "outputs": [],
   "source": [
    "## get project's topic distribution list\n",
    "test_corpus = gensim.matutils.Sparse2Corpus(tf, documents_columns=False)\n",
    "predict = ldamodel_fordoc.get_document_topics(test_corpus)\n",
    "p_plst=list(predict) \n"
   ]
  },
  {
   "cell_type": "code",
   "execution_count": 8,
   "metadata": {},
   "outputs": [
    {
     "data": {
      "text/plain": [
       "52651"
      ]
     },
     "execution_count": 8,
     "metadata": {},
     "output_type": "execute_result"
    }
   ],
   "source": [
    "## check the length\n",
    "len(p_plst)"
   ]
  },
  {
   "cell_type": "code",
   "execution_count": 9,
   "metadata": {},
   "outputs": [
    {
     "data": {
      "text/plain": [
       "[[(0, 0.08726842), (1, 0.6123161), (10, 0.283533)],\n",
       " [(1, 0.58133125), (3, 0.020626), (7, 0.05608953), (10, 0.33435524)],\n",
       " [(0, 0.010578479), (1, 0.5748223), (3, 0.28805843), (7, 0.09551084)],\n",
       " [(1, 0.3658143), (3, 0.03425653), (7, 0.46360824), (10, 0.10755577)],\n",
       " [(1, 0.042126168), (7, 0.018328674), (10, 0.9311191)]]"
      ]
     },
     "execution_count": 9,
     "metadata": {},
     "output_type": "execute_result"
    }
   ],
   "source": [
    "p_plst[0:5]"
   ]
  },
  {
   "cell_type": "code",
   "execution_count": 11,
   "metadata": {},
   "outputs": [
    {
     "name": "stdout",
     "output_type": "stream",
     "text": [
      "[(0.08726842, 0.6123161, 0, 0, 0, 0, 0, 0, 0, 0, 0.283533, 0), (0, 0.58133125, 0, 0.020626, 0, 0, 0, 0.05608953, 0, 0, 0.33435524, 0), (0.010578479, 0.5748223, 0, 0.28805843, 0, 0, 0, 0.09551084, 0, 0, 0, 0), (0, 0.3658143, 0, 0.03425653, 0, 0, 0, 0.46360824, 0, 0, 0.10755577, 0), (0, 0.042126168, 0, 0, 0, 0, 0, 0.018328674, 0, 0, 0.9311191, 0)]\n"
     ]
    }
   ],
   "source": [
    "x=[] #get all tuples of distribution for each project \n",
    "log=[] #track topic\n",
    "d={}\n",
    "tlist=[0, 1, 2, 3, 4, 5, 6, 7, 8, 9, 10, 11]\n",
    "\n",
    "for doc in p_plst:\n",
    "    for i in doc:\n",
    "        d[i[0]]=i[1]\n",
    "        log.append(i[0])\n",
    "        for t in tlist:\n",
    "            if t not in log:\n",
    "                d[t]=0\n",
    "    x.append((d[0], d[1], d[2], d[3], d[4], d[5], d[6], d[7],d[8], d[9], d[10], d[11]))    \n",
    "    log=[]\n",
    "    d={}\n",
    "print(x[0:5])"
   ]
  },
  {
   "cell_type": "code",
   "execution_count": 12,
   "metadata": {},
   "outputs": [],
   "source": [
    "# Create a dataframe from the list of tuples \n",
    "y=pd.DataFrame(x, columns=['group_1', 'group_2', 'group_3', 'group_4','group_5', 'group_6', 'group_7',\\\n",
    "                           'group_8','group_9', 'group_10', 'group_11', 'group_12'])\n"
   ]
  },
  {
   "cell_type": "code",
   "execution_count": 13,
   "metadata": {},
   "outputs": [
    {
     "data": {
      "text/html": [
       "<div>\n",
       "<style scoped>\n",
       "    .dataframe tbody tr th:only-of-type {\n",
       "        vertical-align: middle;\n",
       "    }\n",
       "\n",
       "    .dataframe tbody tr th {\n",
       "        vertical-align: top;\n",
       "    }\n",
       "\n",
       "    .dataframe thead th {\n",
       "        text-align: right;\n",
       "    }\n",
       "</style>\n",
       "<table border=\"1\" class=\"dataframe\">\n",
       "  <thead>\n",
       "    <tr style=\"text-align: right;\">\n",
       "      <th></th>\n",
       "      <th>group_1</th>\n",
       "      <th>group_2</th>\n",
       "      <th>group_3</th>\n",
       "      <th>group_4</th>\n",
       "      <th>group_5</th>\n",
       "      <th>group_6</th>\n",
       "      <th>group_7</th>\n",
       "      <th>group_8</th>\n",
       "      <th>group_9</th>\n",
       "      <th>group_10</th>\n",
       "      <th>group_11</th>\n",
       "      <th>group_12</th>\n",
       "    </tr>\n",
       "  </thead>\n",
       "  <tbody>\n",
       "    <tr>\n",
       "      <th>0</th>\n",
       "      <td>0.087268</td>\n",
       "      <td>0.612316</td>\n",
       "      <td>0.0</td>\n",
       "      <td>0.000000</td>\n",
       "      <td>0.0</td>\n",
       "      <td>0.0</td>\n",
       "      <td>0.0</td>\n",
       "      <td>0.000000</td>\n",
       "      <td>0.0</td>\n",
       "      <td>0.0</td>\n",
       "      <td>0.283533</td>\n",
       "      <td>0.0</td>\n",
       "    </tr>\n",
       "    <tr>\n",
       "      <th>1</th>\n",
       "      <td>0.000000</td>\n",
       "      <td>0.581331</td>\n",
       "      <td>0.0</td>\n",
       "      <td>0.020626</td>\n",
       "      <td>0.0</td>\n",
       "      <td>0.0</td>\n",
       "      <td>0.0</td>\n",
       "      <td>0.056090</td>\n",
       "      <td>0.0</td>\n",
       "      <td>0.0</td>\n",
       "      <td>0.334355</td>\n",
       "      <td>0.0</td>\n",
       "    </tr>\n",
       "    <tr>\n",
       "      <th>2</th>\n",
       "      <td>0.010578</td>\n",
       "      <td>0.574822</td>\n",
       "      <td>0.0</td>\n",
       "      <td>0.288058</td>\n",
       "      <td>0.0</td>\n",
       "      <td>0.0</td>\n",
       "      <td>0.0</td>\n",
       "      <td>0.095511</td>\n",
       "      <td>0.0</td>\n",
       "      <td>0.0</td>\n",
       "      <td>0.000000</td>\n",
       "      <td>0.0</td>\n",
       "    </tr>\n",
       "    <tr>\n",
       "      <th>3</th>\n",
       "      <td>0.000000</td>\n",
       "      <td>0.365814</td>\n",
       "      <td>0.0</td>\n",
       "      <td>0.034257</td>\n",
       "      <td>0.0</td>\n",
       "      <td>0.0</td>\n",
       "      <td>0.0</td>\n",
       "      <td>0.463608</td>\n",
       "      <td>0.0</td>\n",
       "      <td>0.0</td>\n",
       "      <td>0.107556</td>\n",
       "      <td>0.0</td>\n",
       "    </tr>\n",
       "    <tr>\n",
       "      <th>4</th>\n",
       "      <td>0.000000</td>\n",
       "      <td>0.042126</td>\n",
       "      <td>0.0</td>\n",
       "      <td>0.000000</td>\n",
       "      <td>0.0</td>\n",
       "      <td>0.0</td>\n",
       "      <td>0.0</td>\n",
       "      <td>0.018329</td>\n",
       "      <td>0.0</td>\n",
       "      <td>0.0</td>\n",
       "      <td>0.931119</td>\n",
       "      <td>0.0</td>\n",
       "    </tr>\n",
       "  </tbody>\n",
       "</table>\n",
       "</div>"
      ],
      "text/plain": [
       "    group_1   group_2  group_3   group_4  group_5  group_6  group_7   group_8  \\\n",
       "0  0.087268  0.612316      0.0  0.000000      0.0      0.0      0.0  0.000000   \n",
       "1  0.000000  0.581331      0.0  0.020626      0.0      0.0      0.0  0.056090   \n",
       "2  0.010578  0.574822      0.0  0.288058      0.0      0.0      0.0  0.095511   \n",
       "3  0.000000  0.365814      0.0  0.034257      0.0      0.0      0.0  0.463608   \n",
       "4  0.000000  0.042126      0.0  0.000000      0.0      0.0      0.0  0.018329   \n",
       "\n",
       "   group_9  group_10  group_11  group_12  \n",
       "0      0.0       0.0  0.283533       0.0  \n",
       "1      0.0       0.0  0.334355       0.0  \n",
       "2      0.0       0.0  0.000000       0.0  \n",
       "3      0.0       0.0  0.107556       0.0  \n",
       "4      0.0       0.0  0.931119       0.0  "
      ]
     },
     "execution_count": 13,
     "metadata": {},
     "output_type": "execute_result"
    },
    {
     "data": {
      "text/plain": [
       "(52651, 12)"
      ]
     },
     "execution_count": 13,
     "metadata": {},
     "output_type": "execute_result"
    }
   ],
   "source": [
    "y.head()\n",
    "y.shape"
   ]
  },
  {
   "cell_type": "code",
   "execution_count": 14,
   "metadata": {},
   "outputs": [],
   "source": [
    "## save the result to csv for latter use( predict Kickstarter's suceess)\n",
    "y.to_csv(\"C:/Users/USER/Desktop/docTopDist.csv\", header=True, index=False)"
   ]
  }
 ],
 "metadata": {
  "kernelspec": {
   "display_name": "Python 3",
   "language": "python",
   "name": "python3"
  },
  "language_info": {
   "codemirror_mode": {
    "name": "ipython",
    "version": 3
   },
   "file_extension": ".py",
   "mimetype": "text/x-python",
   "name": "python",
   "nbconvert_exporter": "python",
   "pygments_lexer": "ipython3",
   "version": "3.7.3"
  }
 },
 "nbformat": 4,
 "nbformat_minor": 2
}
